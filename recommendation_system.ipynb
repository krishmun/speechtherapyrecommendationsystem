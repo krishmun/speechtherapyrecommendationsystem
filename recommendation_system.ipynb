{
  "nbformat": 4,
  "nbformat_minor": 0,
  "metadata": {
    "colab": {
      "provenance": [],
      "authorship_tag": "ABX9TyOh61wZSYQ1qr6NBQ9SCmS/",
      "include_colab_link": true
    },
    "kernelspec": {
      "name": "python3",
      "display_name": "Python 3"
    },
    "language_info": {
      "name": "python"
    }
  },
  "cells": [
    {
      "cell_type": "markdown",
      "metadata": {
        "id": "view-in-github",
        "colab_type": "text"
      },
      "source": [
        "<a href=\"https://colab.research.google.com/github/krishmun/speechtherapyrecommendationsystem/blob/main/recommendation_system.ipynb\" target=\"_parent\"><img src=\"https://colab.research.google.com/assets/colab-badge.svg\" alt=\"Open In Colab\"/></a>"
      ]
    },
    {
      "cell_type": "code",
      "source": [
        "import nltk\n",
        "from nltk.corpus import cmudict, wordnet\n",
        "from sklearn.feature_extraction.text import TfidfVectorizer\n",
        "from sklearn.metrics.pairwise import cosine_similarity\n",
        "\n",
        "# Download the CMU Pronouncing Dictionary\n",
        "nltk.download('cmudict')\n",
        "nltk.download('wordnet')\n",
        "\n",
        "\n",
        "\n",
        "\n",
        "\n",
        "\n"
      ],
      "metadata": {
        "colab": {
          "base_uri": "https://localhost:8080/"
        },
        "id": "e63u6yTMzaCr",
        "outputId": "66235e9d-966d-4be5-ee5d-6fc36b7d2869"
      },
      "execution_count": null,
      "outputs": [
        {
          "output_type": "stream",
          "name": "stderr",
          "text": [
            "[nltk_data] Downloading package cmudict to /root/nltk_data...\n",
            "[nltk_data]   Unzipping corpora/cmudict.zip.\n",
            "[nltk_data] Downloading package wordnet to /root/nltk_data...\n"
          ]
        },
        {
          "output_type": "execute_result",
          "data": {
            "text/plain": [
              "True"
            ]
          },
          "metadata": {},
          "execution_count": 1
        }
      ]
    },
    {
      "cell_type": "code",
      "source": [
        "# Load the CMU Pronouncing Dictionary\n",
        "pronouncing_dict = cmudict.dict()\n",
        "\n",
        "def get_phonemes(word):\n",
        "    # Get the phonetic representation of a word from the CMU Pronouncing Dictionary\n",
        "    return pronouncing_dict.get(word.lower(), [])"
      ],
      "metadata": {
        "id": "UkHNyc_PPtYL"
      },
      "execution_count": null,
      "outputs": []
    },
    {
      "cell_type": "code",
      "source": [
        "def calculate_cosine_similarity(phonemes1, phonemes2):\n",
        "    # Convert lists to tuples for hashability\n",
        "    phonemes1_tuple = tuple(tuple(sublist) for sublist in phonemes1)\n",
        "    phonemes2_tuple = tuple(tuple(sublist) for sublist in phonemes2)\n",
        "\n",
        "    # Calculate cosine similarity between two lists of phonemes\n",
        "    vectorizer = TfidfVectorizer(tokenizer=lambda x: x, lowercase=False)\n",
        "    tfidf_matrix = vectorizer.fit_transform([' '.join(map(str, phonemes1_tuple)), ' '.join(map(str, phonemes2_tuple))])\n",
        "    return cosine_similarity(tfidf_matrix)[0, 1]\n",
        "\n",
        "def calculate_weighted_similarity(phonemes1, phonemes2):\n",
        "    # Define weights for each phoneme (customize as needed)\n",
        "    phoneme_weights = {\n",
        "    'AA': 1.0, 'AE': 1.0, 'AH': 1.0, 'AO': 1.0, 'AW': 1.0, 'AY': 1.0, 'B': 1.0, 'CH': 1.0, 'D': 1.0, 'DH': 1.0,\n",
        "    'EH': 1.0, 'ER': 1.0, 'EY': 1.0, 'F': 1.0, 'G': 1.0, 'HH': 1.0, 'IH': 1.0, 'IY': 1.0, 'JH': 1.0, 'K': 1.0,\n",
        "    'L': 1.0, 'M': 1.0, 'N': 1.0, 'NG': 1.0, 'OW': 1.0, 'OY': 1.0, 'P': 1.0, 'R': 1.0, 'S': 1.0, 'SH': 1.0,\n",
        "    'T': 1.0, 'TH': 1.0, 'UH': 1.0, 'UW': 1.0, 'V': 1.0, 'W': 1.0, 'Y': 1.0, 'Z': 1.0, 'ZH': 1.0 }\n",
        "\n",
        "\n",
        "    # Convert lists to tuples for hashability\n",
        "    phonemes1_tuple = tuple(tuple(sublist) for sublist in phonemes1)\n",
        "    phonemes2_tuple = tuple(tuple(sublist) for sublist in phonemes2)\n",
        "\n",
        "    # Calculate weighted similarity between two lists of phonemes\n",
        "    weighted_similarity = sum(min(phoneme_weights.get(phoneme, 0.0), 1.0) for phoneme in set(phonemes1_tuple) & set(phonemes2_tuple))\n",
        "\n",
        "    return weighted_similarity\n"
      ],
      "metadata": {
        "id": "Dm1Vy9dFPmFV"
      },
      "execution_count": null,
      "outputs": []
    },
    {
      "cell_type": "code",
      "source": [
        "def suggest_words(input_phonemes, word_list, num_suggestions=5):\n",
        "    # Suggest top 5 words based on input phonemes and enhanced similarity metrics\n",
        "    suggestions = []\n",
        "\n",
        "    for word in word_list:\n",
        "        word_phonemes = get_phonemes(word)\n",
        "\n",
        "        # Calculate similarity metrics\n",
        "        cosine_sim = calculate_cosine_similarity(input_phonemes, word_phonemes)\n",
        "        weighted_sim = calculate_weighted_similarity(input_phonemes, word_phonemes)\n",
        "\n",
        "        # Combine similarity metrics (you can adjust weights or combine differently)\n",
        "        combined_sim = 0.7 * cosine_sim + 0.3 * weighted_sim\n",
        "\n",
        "        suggestions.append((word, combined_sim))\n",
        "\n",
        "    # Sort suggestions by combined similarity and return the top 5\n",
        "    suggestions.sort(key=lambda x: x[1], reverse=True)\n",
        "    top_suggestions = [suggestion[0] for suggestion in suggestions[:num_suggestions]]\n",
        "\n",
        "    return top_suggestions\n"
      ],
      "metadata": {
        "id": "Ix0X02kJPi2j"
      },
      "execution_count": null,
      "outputs": []
    },
    {
      "cell_type": "code",
      "source": [
        "# Hardcoded input phonemes for testing\n",
        "input_phonemes = ['AH0', 'B', 'S', 'T']\n",
        "\n",
        "# Get words from the WordNet dictionary\n",
        "word_list = list(set(wordnet.words()))\n",
        "word_list = list(set(wordnet.words()))[:5000]\n",
        "\n",
        "# Get top 5 suggestions\n",
        "top_suggestions = suggest_words(input_phonemes, word_list, num_suggestions=10)\n"
      ],
      "metadata": {
        "id": "YKIoq0vXPdwr",
        "colab": {
          "base_uri": "https://localhost:8080/"
        },
        "outputId": "f390d47f-7f07-41e3-d5fc-e601038c3238"
      },
      "execution_count": null,
      "outputs": [
        {
          "output_type": "stream",
          "name": "stderr",
          "text": [
            "/usr/local/lib/python3.10/dist-packages/sklearn/feature_extraction/text.py:528: UserWarning: The parameter 'token_pattern' will not be used since 'tokenizer' is not None'\n",
            "  warnings.warn(\n"
          ]
        }
      ]
    },
    {
      "cell_type": "code",
      "source": [
        "# Display suggestions\n",
        "if top_suggestions:\n",
        "    print(\"Top 5 Suggestions:\")\n",
        "    for suggestion in top_suggestions:\n",
        "        print(suggestion)\n",
        "else:\n",
        "    print(\"No suggestions found.\")"
      ],
      "metadata": {
        "colab": {
          "base_uri": "https://localhost:8080/"
        },
        "id": "2x66X_A0Pd_V",
        "outputId": "a83cc855-bf4c-4c4c-bdaa-cfee59c57b31"
      },
      "execution_count": null,
      "outputs": [
        {
          "output_type": "stream",
          "name": "stdout",
          "text": [
            "Top 5 Suggestions:\n",
            "bust\n",
            "bustard\n",
            "dustbin\n",
            "brisket\n",
            "boisterous\n",
            "buttoned\n",
            "tubman\n",
            "brunt\n",
            "battle\n",
            "subsystem\n"
          ]
        }
      ]
    },
    {
      "cell_type": "markdown",
      "source": [
        "Top 5 Suggestions:\n",
        "task\n",
        "bass\n",
        "trash\n",
        "stray\n",
        "assert"
      ],
      "metadata": {
        "id": "7fmbC5UFYLO3"
      }
    },
    {
      "cell_type": "code",
      "source": [
        "# Hardcoded input phonemes for testing\n",
        "input_phonemes = ['P', 'L', 'AY1']\n",
        "\n",
        "# Get words from the WordNet dictionary\n",
        "#word_list = speech_therapy_corpus\n",
        "word_list = list(set(wordnet.words()))[:5000]\n",
        "\n",
        "# Get top 5 suggestions\n",
        "top_suggestions = suggest_words(input_phonemes, word_list, num_suggestions=5)"
      ],
      "metadata": {
        "id": "pkrlsX7WS64K"
      },
      "execution_count": null,
      "outputs": []
    },
    {
      "cell_type": "code",
      "source": [
        "# Display suggestions\n",
        "if top_suggestions:\n",
        "    print(\"Top 5 Suggestions:\")\n",
        "    for suggestion in top_suggestions:\n",
        "        print(suggestion)\n",
        "else:\n",
        "    print(\"No suggestions found.\")"
      ],
      "metadata": {
        "colab": {
          "base_uri": "https://localhost:8080/"
        },
        "id": "x2oZqLsFTBY1",
        "outputId": "986f898c-b86f-4568-b2cd-d82b5123b7c6"
      },
      "execution_count": null,
      "outputs": [
        {
          "output_type": "stream",
          "name": "stdout",
          "text": [
            "Top 5 Suggestions:\n",
            "plop\n",
            "type\n",
            "wipe\n",
            "pail\n",
            "glop\n"
          ]
        }
      ]
    },
    {
      "cell_type": "markdown",
      "source": [
        "\n",
        "\n",
        "output\n",
        "Top 5 Suggestions:\n",
        "nile\n",
        "ripe\n",
        "lyre\n",
        "lamp\n",
        "ploughed"
      ],
      "metadata": {
        "id": "XICg5awZWa6d"
      }
    },
    {
      "cell_type": "markdown",
      "source": [
        "Top 5 Suggestions:\n",
        "cordon_off\n",
        "simplex\n",
        "tyrosine\n",
        "polluted\n",
        "lamp"
      ],
      "metadata": {
        "id": "Z8CNetBHWatz"
      }
    }
  ]
}